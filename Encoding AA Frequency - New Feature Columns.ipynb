{
 "metadata": {
  "name": "",
  "signature": "sha256:fb4d13858360ece95e6cd23e68d9363c00e285b754f6500280d2d542d449a896"
 },
 "nbformat": 3,
 "nbformat_minor": 0,
 "worksheets": [
  {
   "cells": [
    {
     "cell_type": "code",
     "collapsed": false,
     "input": [
      "#import some standard libraries\n",
      "\n",
      "import matplotlib.pyplot as plt\n",
      "%matplotlib inline\n",
      "import numpy as np\n",
      "import pandas as pd\n",
      "from pandas import Series, DataFrame\n",
      "from sklearn import datasets, svm\n",
      "\n"
     ],
     "language": "python",
     "metadata": {},
     "outputs": [],
     "prompt_number": 191
    },
    {
     "cell_type": "code",
     "collapsed": false,
     "input": [
      "#Load the competition test data set into the 'df' variable as an example\n",
      "#Note - Modify your path as appropriate\n",
      "\n",
      "df = pd.read_csv(\"E:\\\\Dropbox\\\\Kaggle\\\\HIV\\\\training_data.csv\")\n"
     ],
     "language": "python",
     "metadata": {},
     "outputs": [],
     "prompt_number": 192
    },
    {
     "cell_type": "code",
     "collapsed": false,
     "input": [
      "#define our valid list of amino acids\n",
      "amino_acid_letters =['A','C','D','E','F','G','H','I','K','L','M','N','P','Q','R','S','T','V','W','Y']\n"
     ],
     "language": "python",
     "metadata": {},
     "outputs": [],
     "prompt_number": 193
    },
    {
     "cell_type": "code",
     "collapsed": false,
     "input": [
      "#create a PR new column for every letter in our amino acid list ie, PR_A, PR_B, etc..\n",
      "for letter in amino_acid_letters:\n",
      "    pr_letter = \"PR_\"+letter\n",
      "    df[pr_letter] = float(0.00)\n",
      "\n",
      "#create a RT new column for every letter in our amino acid list\n",
      "for letter in amino_acid_letters:\n",
      "    pr_letter = \"RT_\"+letter\n",
      "    df[pr_letter] = float(0.00)\n"
     ],
     "language": "python",
     "metadata": {},
     "outputs": [],
     "prompt_number": 194
    },
    {
     "cell_type": "code",
     "collapsed": false,
     "input": [
      "#keeping for reference.. allows us to check the count for any given single record\n",
      "\n",
      "#get PR SEQ COLUMN for 1st row\n",
      "#s = df.ix[0,2] #specified as row #, col # where 0 is first row, 2 is 2nd column\n",
      "\n",
      "#iterate through our list of amino acids\n",
      "#for letter in amino_acid_letters:\n",
      "    \n",
      "#    count = s.count(letter)  #get frequency of each letter\n",
      "#    length = s.__len__() #get length of sequence\n",
      "#    percent = float(count)/ float (length) * 100 #get percentage of letter out of entire sequence\n",
      "#    print letter+\" \"+str(count)+\" \"+'{0:.4f}'.format(percent)  #print\n",
      "\n"
     ],
     "language": "python",
     "metadata": {},
     "outputs": [],
     "prompt_number": 195
    },
    {
     "cell_type": "code",
     "collapsed": false,
     "input": [
      "\n",
      "\n",
      "for index, row in df.iterrows():                                         # iterate through every row in our data frame\n",
      "    s = str(row['PR Seq'])                                               # load the PR sequence into string s\n",
      "    length = s.__len__()                                                 # get length of sequence\n",
      "    for letter in amino_acid_letters:                                    # iterate through amino acid list\n",
      "        \n",
      "        pr_letter = \"PR_\"+letter                                         # PR_ + A, PR_ + C, etc..\n",
      "        \n",
      "        count = s.count(letter)                                          #get frequency of each letter\n",
      "        \n",
      "        percent = float(count)/ float (length) * 100                     # get percentage of letter out of entire sequence\n",
      "        \n",
      "        df.loc[index, pr_letter]=percent                                 # save our percentage in appropriate column\n",
      "        \n",
      "        #print letter+\" \"+str(count)+\" \"+'{0:.2f}'.format(percent)       # debug statement / commented out\n",
      "\n",
      "    "
     ],
     "language": "python",
     "metadata": {},
     "outputs": [],
     "prompt_number": 196
    },
    {
     "cell_type": "code",
     "collapsed": false,
     "input": [
      "# repeat the above cell, this time for RT Sequences\n",
      "\n",
      "for index, row in df.iterrows():\n",
      "    s = str(row['RT Seq'])\n",
      "    length = s.__len__() \n",
      "    for letter in amino_acid_letters:\n",
      "        \n",
      "        rt_letter = \"RT_\"+letter\n",
      "        \n",
      "        count = s.count(letter)  \n",
      "        \n",
      "        percent = float(count)/ float (length) * 100 \n",
      "        \n",
      "        \n",
      "        df.loc[index, rt_letter]=percent\n",
      "        \n",
      "        #print letter+\" \"+str(count)+\" \"+'{0:.2f}'.format(percent) \n",
      "\n",
      "  "
     ],
     "language": "python",
     "metadata": {},
     "outputs": [],
     "prompt_number": 197
    },
    {
     "cell_type": "code",
     "collapsed": false,
     "input": [
      "# write output\n",
      "df.to_csv(\"E:\\\\Dropbox\\\\Kaggle\\\\HIV\\\\new_acid_columns.csv\")"
     ],
     "language": "python",
     "metadata": {},
     "outputs": [],
     "prompt_number": 198
    },
    {
     "cell_type": "code",
     "collapsed": false,
     "input": [],
     "language": "python",
     "metadata": {},
     "outputs": [],
     "prompt_number": 198
    }
   ],
   "metadata": {}
  }
 ]
}